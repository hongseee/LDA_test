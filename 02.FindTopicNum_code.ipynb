{
 "cells": [
  {
   "cell_type": "code",
   "execution_count": 2,
   "source": [
    "import ast\n",
    "from tqdm import tqdm\n",
    "import warnings\n",
    "warnings.filterwarnings('ignore',category=DeprecationWarning)\n",
    "\n",
    "from gensim import corpora\n",
    "import gensim\n",
    "import pyLDAvis\n",
    "from gensim.models import CoherenceModel"
   ],
   "outputs": [],
   "metadata": {
    "ExecuteTime": {
     "end_time": "2021-10-18T06:05:53.219192Z",
     "start_time": "2021-10-18T06:05:53.214061Z"
    }
   }
  },
  {
   "cell_type": "code",
   "execution_count": 8,
   "source": [
    "# token_docs : 형태소가 들어있는 text 파일\n",
    "for i, token in enumerate(token_docs):\n",
    "    token_docs[i] = ast.literal_eval(token.replace('\\n', ''))\n",
    "token_docs[0]"
   ],
   "outputs": [
    {
     "output_type": "execute_result",
     "data": {
      "text/plain": [
       "['좋다']"
      ]
     },
     "metadata": {},
     "execution_count": 8
    }
   ],
   "metadata": {
    "ExecuteTime": {
     "end_time": "2021-10-05T05:38:39.859970Z",
     "start_time": "2021-10-05T05:38:37.969801Z"
    }
   }
  },
  {
   "cell_type": "code",
   "execution_count": 10,
   "source": [
    "dictionary = corpora.Dictionary(token_docs)\n",
    "corpus = [dictionary.doc2bow(text) for text in token_docs]\n"
   ],
   "outputs": [],
   "metadata": {
    "ExecuteTime": {
     "end_time": "2021-10-05T05:38:54.692327Z",
     "start_time": "2021-10-05T05:38:52.913851Z"
    }
   }
  },
  {
   "cell_type": "code",
   "execution_count": null,
   "source": [
    "topic_num = range(1, 50)\n",
    "\n",
    "coherence_path = './find_topic_num/coherence_values.txt'\n",
    "perplexity_path = './find_topic_num/perplexity_values.txt'\n",
    "# 결과 저장\n",
    "coherence_values = []\n",
    "perplexity_values = []\n",
    "for i in tqdm(topic_num):\n",
    "\n",
    "    ldamodel = gensim.models.ldamodel.LdaModel(corpus, num_topics=i, id2word=dictionary, passes=20, random_state=777)\n",
    "    \n",
    "    # coherence 측정\n",
    "    coherence_model_lda = CoherenceModel(model = ldamodel, texts=token_docs, dictionary=dictionary, topn=10)\n",
    "    coherence_value=coherence_model_lda.get_coherence()\n",
    "    coherence_values.append(coherence_value)\n",
    "    # 저장\n",
    "    file_coherence = open(coherence_path, 'a', encoding='utf-8')\n",
    "    file_coherence.write( f'{i}, {coherence_value}' + '\\n' )\n",
    "    file_coherence.close()\n",
    "    \n",
    "    \n",
    "    # perplexity 측정\n",
    "    perplexity_value = ldamodel.log_perplexity(corpus)\n",
    "    perplexity_values.append(perplexity_value)\n",
    "    # 저장\n",
    "    file_perplexity = open(perplexity_path, 'a', encoding='utf-8')\n",
    "    file_perplexity.write( f'{i}, {perplexity_value}' + '\\n' )\n",
    "    file_perplexity.close()\n",
    "    "
   ],
   "outputs": [
    {
     "output_type": "stream",
     "name": "stderr",
     "text": [
      " 51%|█████     | 25/49 [2:41:52<2:33:03, 382.66s/it]"
     ]
    }
   ],
   "metadata": {
    "ExecuteTime": {
     "start_time": "2021-10-05T05:38:56.971Z"
    }
   }
  },
  {
   "cell_type": "markdown",
   "source": [
    "---"
   ],
   "metadata": {}
  },
  {
   "cell_type": "code",
   "execution_count": null,
   "source": [
    "import ast\n",
    "import matplotlib.pyplot as plt"
   ],
   "outputs": [],
   "metadata": {
    "ExecuteTime": {
     "end_time": "2021-10-07T07:34:15.046146Z",
     "start_time": "2021-10-07T07:34:14.537449Z"
    }
   }
  },
  {
   "cell_type": "markdown",
   "source": [
    "# coherence\n",
    "- 높을수록  Good"
   ],
   "metadata": {}
  },
  {
   "cell_type": "markdown",
   "source": [
    "## models.coherencemodel 주제 모델에 대한 주제 일관성을 계산\n",
    "\n",
    "### coherence_model_ldamallet = CoherenceModel(model=ldamallet, texts=texts, dictionary=id2word, coherence='c_v')\n",
    "coherence_ldamallet = coherence_model_ldamallet.get_coherence()\n",
    "- model :주제가 제공되지 않은 경우 사전 훈련 된 주제 모델을 제공해야합니다. 현재 지원 LdaModel, LdaMulticore, LdaMallet와 LdaVowpalWabbit.\n",
    "- topics(list of list of str, optional) :토큰 화 된 토픽의 목록\n",
    "- texts (list of list of str, optional) :슬라이딩 창 기반 (예 : coherence =c_something) 확률 추정기를 사용하는 일관성 모델에 필요한 토큰 화 된 텍스트.\n",
    "- corpus (iterable of list of (int, number), optional) :BoW 형식의 코퍼스.\n",
    "- dictionary (Dictionary, optional) : Gensim dictionary mapping of id word to create corpus. If model.id2word is present, this is not needed. If both are provided, passed dictionary will be used.\n",
    "- coherence ({'u_mass', 'c_v', 'c_uci', 'c_npmi'}, optional) :\n",
    "- topn (int, optional) : 각 주제에서 추출 할 최상위 단어 수에 해당하는 정수\n",
    "- processes (int, optional) : 확률 추정 단계에 사용할 프로세스 수"
   ],
   "metadata": {}
  },
  {
   "cell_type": "code",
   "execution_count": null,
   "source": [
    "for i, value in enumerate( coherence_values ):\n",
    "    print(f'Topic_Num {i+1} : {value}')"
   ],
   "outputs": [
    {
     "output_type": "stream",
     "name": "stdout",
     "text": [
      "Topic_Num 0 : 0.1269098835761811\n",
      "Topic_Num 1 : 0.300111414002554\n",
      "Topic_Num 2 : 0.31700960029860165\n",
      "Topic_Num 3 : 0.317432840960049\n",
      "Topic_Num 4 : 0.35376472710955886\n",
      "Topic_Num 5 : 0.3467065183845524\n",
      "Topic_Num 6 : 0.3527137322310824\n",
      "Topic_Num 7 : 0.3532528006050341\n",
      "Topic_Num 8 : 0.36161741592145646\n",
      "Topic_Num 9 : 0.34566353280035655\n",
      "Topic_Num 10 : 0.3224336442656817\n",
      "Topic_Num 11 : 0.3325160637519338\n",
      "Topic_Num 12 : 0.3154567358271679\n",
      "Topic_Num 13 : 0.34957112680584634\n",
      "Topic_Num 14 : 0.3345131104452838\n",
      "Topic_Num 15 : 0.2966935875017581\n",
      "Topic_Num 16 : 0.31694282506910676\n",
      "Topic_Num 17 : 0.31947806313693383\n",
      "Topic_Num 18 : 0.3304815825566754\n",
      "Topic_Num 19 : 0.2994223214939053\n",
      "Topic_Num 20 : 0.31890316505098093\n",
      "Topic_Num 21 : 0.3126004777815404\n",
      "Topic_Num 22 : 0.30938176759171904\n",
      "Topic_Num 23 : 0.32400869815714267\n",
      "Topic_Num 24 : 0.31971952345138904\n",
      "Topic_Num 25 : 0.32374415233390036\n",
      "Topic_Num 26 : 0.3355688027974973\n",
      "Topic_Num 27 : 0.3128630174165979\n",
      "Topic_Num 28 : 0.35157302517114597\n",
      "Topic_Num 29 : 0.3178485806748487\n",
      "Topic_Num 30 : 0.325036746958486\n",
      "Topic_Num 31 : 0.31523050735403424\n",
      "Topic_Num 32 : 0.30421618270649853\n",
      "Topic_Num 33 : 0.3215190623444101\n",
      "Topic_Num 34 : 0.32266123407082337\n",
      "Topic_Num 35 : 0.29304022524098516\n",
      "Topic_Num 36 : 0.3050372508059306\n",
      "Topic_Num 37 : 0.3197585092918005\n",
      "Topic_Num 38 : 0.30834839902433653\n",
      "Topic_Num 39 : 0.3032511030023766\n",
      "Topic_Num 40 : 0.30194490375412475\n",
      "Topic_Num 41 : 0.305499644989309\n",
      "Topic_Num 42 : 0.30234115718974275\n",
      "Topic_Num 43 : 0.2960486543778547\n",
      "Topic_Num 44 : 0.2974303350826552\n",
      "Topic_Num 45 : 0.2979000624876233\n",
      "Topic_Num 46 : 0.29963991189442557\n",
      "Topic_Num 47 : 0.30174678626397694\n",
      "Topic_Num 48 : 0.28654513193124803\n"
     ]
    }
   ],
   "metadata": {
    "ExecuteTime": {
     "end_time": "2021-10-07T07:34:46.511915Z",
     "start_time": "2021-10-07T07:34:46.502884Z"
    },
    "scrolled": true
   }
  },
  {
   "cell_type": "code",
   "execution_count": null,
   "source": [
    "coherence_values[17:25]"
   ],
   "outputs": [
    {
     "data": {
      "text/plain": [
       "[0.31947806313693383,\n",
       " 0.3304815825566754,\n",
       " 0.2994223214939053,\n",
       " 0.31890316505098093,\n",
       " 0.3126004777815404,\n",
       " 0.30938176759171904,\n",
       " 0.32400869815714267,\n",
       " 0.31971952345138904]"
      ]
     },
     "metadata": {},
     "output_type": "display_data"
    }
   ],
   "metadata": {
    "ExecuteTime": {
     "end_time": "2021-10-07T07:34:48.766239Z",
     "start_time": "2021-10-07T07:34:48.756738Z"
    }
   }
  },
  {
   "cell_type": "code",
   "execution_count": null,
   "source": [
    "topic_num = range(1, len(coherence_values)+1)\n",
    "plt.plot(topic_num, coherence_values)\n",
    "plt.xlabel('Number of topic')\n",
    "plt.ylabel('coherence score')   \n",
    "plt.show()\n",
    "\n",
    "# plt.savefig('./find_topic_num/coherence.png', dpi=100)"
   ],
   "outputs": [
    {
     "data": {
      "image/png": "[encoded data removed]",
      "text/plain": [
       "<Figure size 432x288 with 1 Axes>"
      ]
     },
     "metadata": {},
     "output_type": "display_data"
    }
   ],
   "metadata": {
    "ExecuteTime": {
     "end_time": "2021-10-07T07:34:49.181485Z",
     "start_time": "2021-10-07T07:34:48.955254Z"
    }
   }
  },
  {
   "cell_type": "code",
   "execution_count": null,
   "source": [
    "# 일부만 확인하고 싶을 때\n",
    "topic_num = range(40, 48)"
   ],
   "outputs": [],
   "metadata": {
    "ExecuteTime": {
     "end_time": "2021-10-01T01:21:18.741059Z",
     "start_time": "2021-10-01T01:21:18.736880Z"
    }
   }
  },
  {
   "cell_type": "code",
   "execution_count": null,
   "source": [
    "plt.plot(topic_num, coherence_values[ 40 : 48 ])\n",
    "plt.xlabel('Number of topic')\n",
    "plt.ylabel('coherence score')   \n",
    "plt.show()\n",
    "\n",
    "# plt.savefig('./find_topic_num/coherence.png', dpi=100)"
   ],
   "outputs": [
    {
     "data": {
      "image/png": "[encoded data removed]",
      "text/plain": [
       "<Figure size 432x288 with 1 Axes>"
      ]
     },
     "metadata": {},
     "output_type": "display_data"
    }
   ],
   "metadata": {
    "ExecuteTime": {
     "end_time": "2021-10-01T01:21:22.580388Z",
     "start_time": "2021-10-01T01:21:22.307308Z"
    }
   }
  },
  {
   "cell_type": "markdown",
   "source": [
    "##### 토픽 개수에 따른 coherence 찾기"
   ],
   "metadata": {}
  },
  {
   "cell_type": "code",
   "execution_count": null,
   "source": [
    "for i in range(len(coherence_values))[40:48]:\n",
    "    print(f'Topic_Num {i+1} :  {coherence_values[i]}')"
   ],
   "outputs": [
    {
     "output_type": "stream",
     "name": "stdout",
     "text": [
      "Topic_Num 40 :  0.4432058405866111\n",
      "Topic_Num 41 :  0.39278904287483224\n",
      "Topic_Num 42 :  0.4647554583796575\n",
      "Topic_Num 43 :  0.5052214849304708\n",
      "Topic_Num 44 :  0.5014747500320605\n",
      "Topic_Num 45 :  0.5181399986167432\n",
      "Topic_Num 46 :  0.5216348610813485\n",
      "Topic_Num 47 :  0.5621132286618841\n"
     ]
    }
   ],
   "metadata": {
    "ExecuteTime": {
     "end_time": "2021-10-01T01:21:51.591726Z",
     "start_time": "2021-10-01T01:21:51.585575Z"
    }
   }
  },
  {
   "cell_type": "code",
   "execution_count": null,
   "source": [
    "chk = 0\n",
    "for idx, val in enumerate(coherence_values[:25]):\n",
    "    if val > chk:\n",
    "        chk = val\n",
    "        chk_idx = idx\n",
    "print(chk_idx, chk)"
   ],
   "outputs": [
    {
     "output_type": "stream",
     "name": "stdout",
     "text": [
      "2 0.5883430553649455\n"
     ]
    }
   ],
   "metadata": {
    "ExecuteTime": {
     "end_time": "2021-10-01T01:21:51.896255Z",
     "start_time": "2021-10-01T01:21:51.889525Z"
    }
   }
  },
  {
   "cell_type": "markdown",
   "source": [
    "topic_num=15"
   ],
   "metadata": {}
  },
  {
   "cell_type": "markdown",
   "source": [
    "# perplexity\n",
    "- 낮을 수록 Good"
   ],
   "metadata": {}
  },
  {
   "cell_type": "code",
   "execution_count": null,
   "source": [
    "len(perplexity_values), perplexity_values"
   ],
   "outputs": [
    {
     "data": {
      "text/plain": [
       "(49,\n",
       " [-5.929622050715949,\n",
       "  -6.000388881021191,\n",
       "  -6.063108216316455,\n",
       "  -6.157106642798321,\n",
       "  -6.232091380073188,\n",
       "  -6.317391929013839,\n",
       "  -6.422679104494965,\n",
       "  -6.531750599200784,\n",
       "  -6.704391016077395,\n",
       "  -6.910727476460146,\n",
       "  -7.150199734918126,\n",
       "  -7.423340097512044,\n",
       "  -7.849366941809052,\n",
       "  -8.295846046817438,\n",
       "  -8.780942997348497,\n",
       "  -9.16830545991023,\n",
       "  -9.530586680471762,\n",
       "  -9.760071999357097,\n",
       "  -10.055395775832755,\n",
       "  -10.226830106426432,\n",
       "  -10.496559268992357,\n",
       "  -10.705476489022052,\n",
       "  -10.931134154890755,\n",
       "  -11.123817119455113,\n",
       "  -11.311315841160026,\n",
       "  -11.541085001644186,\n",
       "  -11.776041498359623,\n",
       "  -12.028558279438036,\n",
       "  -12.29598734832759,\n",
       "  -12.60143145087796,\n",
       "  -12.809932847377151,\n",
       "  -13.110991352055915,\n",
       "  -13.421631820167388,\n",
       "  -13.644941705875517,\n",
       "  -13.901031797803395,\n",
       "  -14.114109445287736,\n",
       "  -14.405194872784072,\n",
       "  -14.674776008329799,\n",
       "  -14.938546106224555,\n",
       "  -15.215116033313926,\n",
       "  -15.547884036094704,\n",
       "  -15.965015181363109,\n",
       "  -16.24138557387653,\n",
       "  -16.413610242055388,\n",
       "  -16.95928052330167,\n",
       "  -17.20324398568192,\n",
       "  -17.556678224181983,\n",
       "  -17.72095699391584,\n",
       "  -18.090592143201572])"
      ]
     },
     "metadata": {},
     "output_type": "display_data"
    }
   ],
   "metadata": {
    "ExecuteTime": {
     "end_time": "2021-10-07T07:35:05.018974Z",
     "start_time": "2021-10-07T07:35:05.007720Z"
    }
   }
  },
  {
   "cell_type": "code",
   "execution_count": null,
   "source": [
    "topic_num = range(1, len(perplexity_values)+1)\n",
    "\n",
    "plt.plot(topic_num, perplexity_values)\n",
    "plt.xlabel('Number of topic')\n",
    "plt.ylabel('perplexity score')   \n",
    "plt.show()\n",
    "\n",
    "# plt.savefig('./find_topic_num/coherence.png', dpi=100)"
   ],
   "outputs": [
    {
     "data": {
      "image/png": "[encoded data removed]",
      "text/plain": [
       "<Figure size 432x288 with 1 Axes>"
      ]
     },
     "metadata": {},
     "output_type": "display_data"
    }
   ],
   "metadata": {
    "ExecuteTime": {
     "end_time": "2021-10-07T07:35:07.080665Z",
     "start_time": "2021-10-07T07:35:06.732229Z"
    }
   }
  },
  {
   "cell_type": "code",
   "execution_count": null,
   "source": [],
   "outputs": [],
   "metadata": {}
  },
  {
   "cell_type": "code",
   "execution_count": null,
   "source": [],
   "outputs": [],
   "metadata": {}
  },
  {
   "cell_type": "code",
   "execution_count": null,
   "source": [],
   "outputs": [],
   "metadata": {}
  },
  {
   "cell_type": "code",
   "execution_count": null,
   "source": [],
   "outputs": [],
   "metadata": {}
  },
  {
   "cell_type": "code",
   "execution_count": null,
   "source": [],
   "outputs": [],
   "metadata": {}
  },
  {
   "cell_type": "code",
   "execution_count": null,
   "source": [],
   "outputs": [],
   "metadata": {}
  },
  {
   "cell_type": "code",
   "execution_count": null,
   "source": [],
   "outputs": [],
   "metadata": {}
  },
  {
   "cell_type": "code",
   "execution_count": null,
   "source": [],
   "outputs": [],
   "metadata": {}
  }
 ],
 "metadata": {
  "kernelspec": {
   "display_name": "Python 3",
   "language": "python",
   "name": "python3"
  },
  "language_info": {
   "codemirror_mode": {
    "name": "ipython",
    "version": 3
   },
   "file_extension": ".py",
   "mimetype": "text/x-python",
   "name": "python",
   "nbconvert_exporter": "python",
   "pygments_lexer": "ipython3",
   "version": "3.6.7"
  },
  "toc": {
   "base_numbering": 1,
   "nav_menu": {},
   "number_sections": true,
   "sideBar": true,
   "skip_h1_title": false,
   "title_cell": "Table of Contents",
   "title_sidebar": "Contents",
   "toc_cell": false,
   "toc_position": {},
   "toc_section_display": true,
   "toc_window_display": false
  }
 },
 "nbformat": 4,
 "nbformat_minor": 2
}